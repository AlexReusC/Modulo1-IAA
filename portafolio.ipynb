{
  "cells": [
    {
      "cell_type": "markdown",
      "metadata": {},
      "source": [
        "El dataset para este trabajo es el Flight Status Prediction que se obtuvo de Kaggle (https://www.kaggle.com/datasets/robikscube/flight-delay-dataset-20182022). El dataset es una recopilación de datos de vuelos, el más importante de ellos si el vuelo fue cancelado. El objetivo de esta actividad es realizar un modelo con ayuda de pyspark que pueda predecir si un vuelo va a ser cancelado"
      ]
    },
    {
      "cell_type": "code",
      "execution_count": null,
      "metadata": {
        "colab": {
          "base_uri": "https://localhost:8080/"
        },
        "id": "eT5TgoXmJKIN",
        "outputId": "19829bd2-1209-4f59-a16e-ddc42c9b07b8"
      },
      "outputs": [
        {
          "name": "stdout",
          "output_type": "stream",
          "text": [
            "Get:1 https://cloud.r-project.org/bin/linux/ubuntu bionic-cran40/ InRelease [3,626 B]\n",
            "Ign:2 https://developer.download.nvidia.com/compute/machine-learning/repos/ubuntu1804/x86_64  InRelease\n",
            "Hit:3 https://developer.download.nvidia.com/compute/cuda/repos/ubuntu1804/x86_64  InRelease\n",
            "Hit:4 https://developer.download.nvidia.com/compute/machine-learning/repos/ubuntu1804/x86_64  Release\n",
            "Get:5 http://security.ubuntu.com/ubuntu bionic-security InRelease [88.7 kB]\n",
            "Hit:6 http://ppa.launchpad.net/c2d4u.team/c2d4u4.0+/ubuntu bionic InRelease\n",
            "Hit:7 http://archive.ubuntu.com/ubuntu bionic InRelease\n",
            "Get:8 http://archive.ubuntu.com/ubuntu bionic-updates InRelease [88.7 kB]\n",
            "Hit:9 http://ppa.launchpad.net/cran/libgit2/ubuntu bionic InRelease\n",
            "Hit:10 http://ppa.launchpad.net/deadsnakes/ppa/ubuntu bionic InRelease\n",
            "Get:12 http://archive.ubuntu.com/ubuntu bionic-backports InRelease [83.3 kB]\n",
            "Hit:13 http://ppa.launchpad.net/graphics-drivers/ppa/ubuntu bionic InRelease\n",
            "Get:14 http://security.ubuntu.com/ubuntu bionic-security/restricted amd64 Packages [1,217 kB]\n",
            "Get:15 http://archive.ubuntu.com/ubuntu bionic-updates/main amd64 Packages [3,467 kB]\n",
            "Get:16 http://archive.ubuntu.com/ubuntu bionic-updates/restricted amd64 Packages [1,257 kB]\n",
            "Get:17 http://archive.ubuntu.com/ubuntu bionic-updates/universe amd64 Packages [2,332 kB]\n",
            "Fetched 8,537 kB in 3s (2,548 kB/s)\n",
            "Reading package lists... Done\n",
            "Building dependency tree       \n",
            "Reading state information... Done\n",
            "29 packages can be upgraded. Run 'apt list --upgradable' to see them.\n",
            "Looking in indexes: https://pypi.org/simple, https://us-python.pkg.dev/colab-wheels/public/simple/\n",
            "Collecting pyspark\n",
            "  Downloading pyspark-3.3.1.tar.gz (281.4 MB)\n",
            "\u001b[K     |████████████████████████████████| 281.4 MB 41 kB/s \n",
            "\u001b[?25hCollecting py4j==0.10.9.5\n",
            "  Downloading py4j-0.10.9.5-py2.py3-none-any.whl (199 kB)\n",
            "\u001b[K     |████████████████████████████████| 199 kB 44.3 MB/s \n",
            "\u001b[?25hBuilding wheels for collected packages: pyspark\n",
            "  Building wheel for pyspark (setup.py) ... \u001b[?25l\u001b[?25hdone\n",
            "  Created wheel for pyspark: filename=pyspark-3.3.1-py2.py3-none-any.whl size=281845513 sha256=76fa6c1b887d2e407c93597abe0e00767ac5c8e57a98afddd57daae9470c7c9b\n",
            "  Stored in directory: /root/.cache/pip/wheels/42/59/f5/79a5bf931714dcd201b26025347785f087370a10a3329a899c\n",
            "Successfully built pyspark\n",
            "Installing collected packages: py4j, pyspark\n",
            "Successfully installed py4j-0.10.9.5 pyspark-3.3.1\n"
          ]
        }
      ],
      "source": [
        "#Se importan librerías y dependencias\n",
        "\n",
        "#Bibliotecas para poder trabajar con Spark\n",
        "!sudo apt update;\n",
        "!apt-get install openjdk-8-jdk-headless -qq > /dev/null;\n",
        "!wget -q https://downloads.apache.org/spark/spark-3.2.2/spark-3.2.2-bin-hadoop3.2.tgz;\n",
        "!tar xf spark-3.2.2-bin-hadoop3.2.tgz;\n",
        "#Configuración de Spark con Python\n",
        "!pip install -q findspark;\n",
        "!pip install pyspark;\n",
        "\n",
        "#Estableciendo variable de entorno\n",
        "import os\n",
        "os.environ[\"JAVA_HOME\"] = \"/usr/lib/jvm/java-8-openjdk-amd64\"\n",
        "os.environ[\"SPARK_HOME\"] = \"/content/spark-3.2.2-bin-hadoop3.2\"\n",
        "\n",
        "#Buscando e inicializando la instalación de Spark\n",
        "import findspark\n",
        "findspark.init();\n",
        "findspark.find();"
      ]
    },
    {
      "cell_type": "code",
      "execution_count": null,
      "metadata": {
        "id": "sG3PNP8IGgH2"
      },
      "outputs": [],
      "source": [
        "from pyspark.ml import Pipeline\n",
        "from pyspark.ml.feature import StringIndexer\n",
        "from pyspark.mllib.tree import DecisionTree\n",
        "from pyspark.mllib.regression import LabeledPoint\n",
        "from pyspark.sql.types import IntegerType\n",
        "from pyspark.sql.functions import col\n",
        "from pyspark import SparkConf"
      ]
    },
    {
      "cell_type": "code",
      "execution_count": null,
      "metadata": {
        "colab": {
          "base_uri": "https://localhost:8080/"
        },
        "id": "2BpNrGVYJ7OF",
        "outputId": "22b62f60-0936-452f-dbca-74bdcef7c4eb"
      },
      "outputs": [
        {
          "name": "stdout",
          "output_type": "stream",
          "text": [
            "Mounted at /content/drive\n"
          ]
        }
      ],
      "source": [
        "#Se busca la ubicación de los datos en drive\n",
        "from google.colab import drive\n",
        "drive.mount('/content/drive')"
      ]
    },
    {
      "cell_type": "code",
      "execution_count": null,
      "metadata": {
        "colab": {
          "base_uri": "https://localhost:8080/"
        },
        "id": "dAobhRjeJ_9c",
        "outputId": "eee250eb-280b-4f35-b74f-114fcc53f767"
      },
      "outputs": [
        {
          "name": "stdout",
          "output_type": "stream",
          "text": [
            "/content/drive/MyDrive/Big-Data-Portafolio\n",
            "Combined_Flights_2018.csv  spark-3.2.2-bin-hadoop3.2.tgz\n",
            "portafolio.ipynb\t   spark-3.2.2-bin-hadoop3.2.tgz.1\n",
            "spark-3.2.2-bin-hadoop3.2\n"
          ]
        }
      ],
      "source": [
        "%cd \"/content/drive/MyDrive/Big-Data-Portafolio/\"\n",
        "!ls"
      ]
    },
    {
      "cell_type": "code",
      "execution_count": null,
      "metadata": {
        "colab": {
          "base_uri": "https://localhost:8080/",
          "height": 219
        },
        "id": "d3fiw4RXKkCo",
        "outputId": "a71f7ab3-2e51-4ece-9554-d07da6e84a8e"
      },
      "outputs": [
        {
          "data": {
            "text/html": [
              "\n",
              "            <div>\n",
              "                <p><b>SparkSession - in-memory</b></p>\n",
              "                \n",
              "        <div>\n",
              "            <p><b>SparkContext</b></p>\n",
              "\n",
              "            <p><a href=\"http://5f41dab6e43b:4040\">Spark UI</a></p>\n",
              "\n",
              "            <dl>\n",
              "              <dt>Version</dt>\n",
              "                <dd><code>v3.2.2</code></dd>\n",
              "              <dt>Master</dt>\n",
              "                <dd><code>local[*]</code></dd>\n",
              "              <dt>AppName</dt>\n",
              "                <dd><code>OperacionesFiltrado</code></dd>\n",
              "            </dl>\n",
              "        </div>\n",
              "        \n",
              "            </div>\n",
              "        "
            ],
            "text/plain": [
              "<pyspark.sql.session.SparkSession at 0x7f5cec8d3b10>"
            ]
          },
          "execution_count": 5,
          "metadata": {},
          "output_type": "execute_result"
        }
      ],
      "source": [
        "#Se crea la sesión de spark\n",
        "from pyspark.sql import SparkSession\n",
        "spark = SparkSession.builder.appName('OperacionesFiltrado').config(\"spark.driver.memory\", \"12g\").getOrCreate()\n",
        "spark"
      ]
    },
    {
      "cell_type": "code",
      "execution_count": null,
      "metadata": {
        "colab": {
          "base_uri": "https://localhost:8080/"
        },
        "id": "tkY1MXM1Kaef",
        "outputId": "a83f3421-15c3-45c9-ae1b-80f2e1ad55c7"
      },
      "outputs": [
        {
          "name": "stdout",
          "output_type": "stream",
          "text": [
            "+----------+-----------------+------+----+---------+--------+----------+-------+---------------+--------+-------+---------------+-------+--------------+-----------------+--------+----+-------+-----+----------+---------+-------------------------+---------------------------------------+------------------------+---------------------------+-------------------------------+-----------------+------------------------+---------------------------+-----------+-------------------------------+---------------+------------------+------------------+--------------+-----------+---------------+---------------+---------+-------------+----------------+----------------+------------+---------+-------------+-------------+-------+--------+--------------------+----------+-------+---------+--------+------+----------+--------+--------+------------------+----------+-------------+------------------+\n",
            "|FlightDate|          Airline|Origin|Dest|Cancelled|Diverted|CRSDepTime|DepTime|DepDelayMinutes|DepDelay|ArrTime|ArrDelayMinutes|AirTime|CRSElapsedTime|ActualElapsedTime|Distance|Year|Quarter|Month|DayofMonth|DayOfWeek|Marketing_Airline_Network|Operated_or_Branded_Code_Share_Partners|DOT_ID_Marketing_Airline|IATA_Code_Marketing_Airline|Flight_Number_Marketing_Airline|Operating_Airline|DOT_ID_Operating_Airline|IATA_Code_Operating_Airline|Tail_Number|Flight_Number_Operating_Airline|OriginAirportID|OriginAirportSeqID|OriginCityMarketID|OriginCityName|OriginState|OriginStateFips|OriginStateName|OriginWac|DestAirportID|DestAirportSeqID|DestCityMarketID|DestCityName|DestState|DestStateFips|DestStateName|DestWac|DepDel15|DepartureDelayGroups|DepTimeBlk|TaxiOut|WheelsOff|WheelsOn|TaxiIn|CRSArrTime|ArrDelay|ArrDel15|ArrivalDelayGroups|ArrTimeBlk|DistanceGroup|DivAirportLandings|\n",
            "+----------+-----------------+------+----+---------+--------+----------+-------+---------------+--------+-------+---------------+-------+--------------+-----------------+--------+----+-------+-----+----------+---------+-------------------------+---------------------------------------+------------------------+---------------------------+-------------------------------+-----------------+------------------------+---------------------------+-----------+-------------------------------+---------------+------------------+------------------+--------------+-----------+---------------+---------------+---------+-------------+----------------+----------------+------------+---------+-------------+-------------+-------+--------+--------------------+----------+-------+---------+--------+------+----------+--------+--------+------------------+----------+-------------+------------------+\n",
            "|2018-01-23|Endeavor Air Inc.|   ABY| ATL|    false|   false|      1202| 1157.0|            0.0|    -5.0| 1256.0|            0.0|   38.0|          62.0|             59.0|   145.0|2018|      1|    1|        23|        2|                       DL|                           DL_CODESHARE|                   19790|                         DL|                           3298|               9E|                   20363|                         9E|     N8928A|                           3298|          10146|           1014602|             30146|    Albany, GA|         GA|             13|        Georgia|       34|        10397|         1039707|           30397| Atlanta, GA|       GA|           13|      Georgia|     34|     0.0|                -1.0| 1200-1259|   14.0|   1211.0|  1249.0|   7.0|      1304|    -8.0|     0.0|              -1.0| 1300-1359|            1|               0.0|\n",
            "|2018-01-24|Endeavor Air Inc.|   ABY| ATL|    false|   false|      1202| 1157.0|            0.0|    -5.0| 1258.0|            0.0|   36.0|          62.0|             61.0|   145.0|2018|      1|    1|        24|        3|                       DL|                           DL_CODESHARE|                   19790|                         DL|                           3298|               9E|                   20363|                         9E|     N800AY|                           3298|          10146|           1014602|             30146|    Albany, GA|         GA|             13|        Georgia|       34|        10397|         1039707|           30397| Atlanta, GA|       GA|           13|      Georgia|     34|     0.0|                -1.0| 1200-1259|   13.0|   1210.0|  1246.0|  12.0|      1304|    -6.0|     0.0|              -1.0| 1300-1359|            1|               0.0|\n",
            "|2018-01-25|Endeavor Air Inc.|   ABY| ATL|    false|   false|      1202| 1153.0|            0.0|    -9.0| 1302.0|            0.0|   40.0|          62.0|             69.0|   145.0|2018|      1|    1|        25|        4|                       DL|                           DL_CODESHARE|                   19790|                         DL|                           3298|               9E|                   20363|                         9E|     N8836A|                           3298|          10146|           1014602|             30146|    Albany, GA|         GA|             13|        Georgia|       34|        10397|         1039707|           30397| Atlanta, GA|       GA|           13|      Georgia|     34|     0.0|                -1.0| 1200-1259|   18.0|   1211.0|  1251.0|  11.0|      1304|    -2.0|     0.0|              -1.0| 1300-1359|            1|               0.0|\n",
            "|2018-01-26|Endeavor Air Inc.|   ABY| ATL|    false|   false|      1202| 1150.0|            0.0|   -12.0| 1253.0|            0.0|   35.0|          62.0|             63.0|   145.0|2018|      1|    1|        26|        5|                       DL|                           DL_CODESHARE|                   19790|                         DL|                           3298|               9E|                   20363|                         9E|     N800AY|                           3298|          10146|           1014602|             30146|    Albany, GA|         GA|             13|        Georgia|       34|        10397|         1039707|           30397| Atlanta, GA|       GA|           13|      Georgia|     34|     0.0|                -1.0| 1200-1259|   17.0|   1207.0|  1242.0|  11.0|      1304|   -11.0|     0.0|              -1.0| 1300-1359|            1|               0.0|\n",
            "|2018-01-27|Endeavor Air Inc.|   ABY| ATL|    false|   false|      1400| 1355.0|            0.0|    -5.0| 1459.0|            0.0|   36.0|          60.0|             64.0|   145.0|2018|      1|    1|        27|        6|                       DL|                           DL_CODESHARE|                   19790|                         DL|                           3298|               9E|                   20363|                         9E|     N8839E|                           3298|          10146|           1014602|             30146|    Albany, GA|         GA|             13|        Georgia|       34|        10397|         1039707|           30397| Atlanta, GA|       GA|           13|      Georgia|     34|     0.0|                -1.0| 1400-1459|   17.0|   1412.0|  1448.0|  11.0|      1500|    -1.0|     0.0|              -1.0| 1500-1559|            1|               0.0|\n",
            "|2018-01-28|Endeavor Air Inc.|   ABY| ATL|    false|   false|      1202| 1202.0|           null|    null| 1326.0|           22.0|   37.0|          62.0|             84.0|   145.0|2018|      1|    1|        28|        7|                       DL|                           DL_CODESHARE|                   19790|                         DL|                           3298|               9E|                   20363|                         9E|     N8918B|                           3298|          10146|           1014602|             30146|    Albany, GA|         GA|             13|        Georgia|       34|        10397|         1039707|           30397| Atlanta, GA|       GA|           13|      Georgia|     34|    null|                null| 1200-1259|   34.0|   1236.0|  1313.0|  13.0|      1304|    22.0|     1.0|               1.0| 1300-1359|            1|               0.0|\n",
            "|2018-01-29|Endeavor Air Inc.|   ABY| ATL|    false|   false|      1202| 1204.0|            2.0|     2.0| 1303.0|            0.0|   34.0|          62.0|             59.0|   145.0|2018|      1|    1|        29|        1|                       DL|                           DL_CODESHARE|                   19790|                         DL|                           3298|               9E|                   20363|                         9E|     N8783E|                           3298|          10146|           1014602|             30146|    Albany, GA|         GA|             13|        Georgia|       34|        10397|         1039707|           30397| Atlanta, GA|       GA|           13|      Georgia|     34|     0.0|                 0.0| 1200-1259|   15.0|   1219.0|  1253.0|  10.0|      1304|    -1.0|     0.0|              -1.0| 1300-1359|            1|               0.0|\n",
            "|2018-01-30|Endeavor Air Inc.|   ABY| ATL|    false|   false|      1202| 1153.0|            0.0|    -9.0| 1255.0|            0.0|   44.0|          62.0|             62.0|   145.0|2018|      1|    1|        30|        2|                       DL|                           DL_CODESHARE|                   19790|                         DL|                           3298|               9E|                   20363|                         9E|     N8946A|                           3298|          10146|           1014602|             30146|    Albany, GA|         GA|             13|        Georgia|       34|        10397|         1039707|           30397| Atlanta, GA|       GA|           13|      Georgia|     34|     0.0|                -1.0| 1200-1259|    7.0|   1200.0|  1244.0|  11.0|      1304|    -9.0|     0.0|              -1.0| 1300-1359|            1|               0.0|\n",
            "|2018-01-31|Endeavor Air Inc.|   ABY| ATL|    false|   false|      1202| 1153.0|            0.0|    -9.0| 1304.0|           null|   37.0|          62.0|             71.0|   145.0|2018|      1|    1|        31|        3|                       DL|                           DL_CODESHARE|                   19790|                         DL|                           3298|               9E|                   20363|                         9E|     N8918B|                           3298|          10146|           1014602|             30146|    Albany, GA|         GA|             13|        Georgia|       34|        10397|         1039707|           30397| Atlanta, GA|       GA|           13|      Georgia|     34|     0.0|                -1.0| 1200-1259|   26.0|   1219.0|  1256.0|   8.0|      1304|    null|    null|              null| 1300-1359|            1|               0.0|\n",
            "|2018-01-03|Endeavor Air Inc.|   ATL| ABY|    false|   false|      1037| 1101.0|           24.0|    24.0| 1159.0|           22.0|   32.0|          60.0|             58.0|   145.0|2018|      1|    1|         3|        3|                       DL|                           DL_CODESHARE|                   19790|                         DL|                           3298|               9E|                   20363|                         9E|     N981EV|                           3298|          10397|           1039707|             30397|   Atlanta, GA|         GA|             13|        Georgia|       34|        10146|         1014602|           30146|  Albany, GA|       GA|           13|      Georgia|     34|     1.0|                 1.0| 1000-1059|   23.0|   1124.0|  1156.0|   3.0|      1137|    22.0|     1.0|               1.0| 1100-1159|            1|               0.0|\n",
            "|2018-01-04|Endeavor Air Inc.|   ATL| ABY|    false|   false|      1037| 1032.0|            0.0|    -5.0| 1125.0|            0.0|   27.0|          60.0|             53.0|   145.0|2018|      1|    1|         4|        4|                       DL|                           DL_CODESHARE|                   19790|                         DL|                           3298|               9E|                   20363|                         9E|     N981EV|                           3298|          10397|           1039707|             30397|   Atlanta, GA|         GA|             13|        Georgia|       34|        10146|         1014602|           30146|  Albany, GA|       GA|           13|      Georgia|     34|     0.0|                -1.0| 1000-1059|   23.0|   1055.0|  1122.0|   3.0|      1137|   -12.0|     0.0|              -1.0| 1100-1159|            1|               0.0|\n",
            "|2018-01-05|Endeavor Air Inc.|   ATL| ABY|    false|   false|      1037| 1032.0|            0.0|    -5.0| 1124.0|            0.0|   29.0|          60.0|             52.0|   145.0|2018|      1|    1|         5|        5|                       DL|                           DL_CODESHARE|                   19790|                         DL|                           3298|               9E|                   20363|                         9E|     N8877A|                           3298|          10397|           1039707|             30397|   Atlanta, GA|         GA|             13|        Georgia|       34|        10146|         1014602|           30146|  Albany, GA|       GA|           13|      Georgia|     34|     0.0|                -1.0| 1000-1059|   20.0|   1052.0|  1121.0|   3.0|      1137|   -13.0|     0.0|              -1.0| 1100-1159|            1|               0.0|\n",
            "|2018-01-06|Endeavor Air Inc.|   ATL| ABY|    false|   false|      1037| 1032.0|            0.0|    -5.0| 1126.0|            0.0|   34.0|          59.0|             54.0|   145.0|2018|      1|    1|         6|        6|                       DL|                           DL_CODESHARE|                   19790|                         DL|                           3298|               9E|                   20363|                         9E|     N8970D|                           3298|          10397|           1039707|             30397|   Atlanta, GA|         GA|             13|        Georgia|       34|        10146|         1014602|           30146|  Albany, GA|       GA|           13|      Georgia|     34|     0.0|                -1.0| 1000-1059|   18.0|   1050.0|  1124.0|   2.0|      1136|   -10.0|     0.0|              -1.0| 1100-1159|            1|               0.0|\n",
            "|2018-01-07|Endeavor Air Inc.|   ATL| ABY|    false|   false|      1037| 1034.0|            0.0|    -3.0| 1124.0|            0.0|   29.0|          60.0|             50.0|   145.0|2018|      1|    1|         7|        7|                       DL|                           DL_CODESHARE|                   19790|                         DL|                           3298|               9E|                   20363|                         9E|     N8980A|                           3298|          10397|           1039707|             30397|   Atlanta, GA|         GA|             13|        Georgia|       34|        10146|         1014602|           30146|  Albany, GA|       GA|           13|      Georgia|     34|     0.0|                -1.0| 1000-1059|   18.0|   1052.0|  1121.0|   3.0|      1137|   -13.0|     0.0|              -1.0| 1100-1159|            1|               0.0|\n",
            "|2018-01-08|Endeavor Air Inc.|   ATL| ABY|    false|   false|      1037| 1059.0|           22.0|    22.0| 1153.0|           16.0|   32.0|          60.0|             54.0|   145.0|2018|      1|    1|         8|        1|                       DL|                           DL_CODESHARE|                   19790|                         DL|                           3298|               9E|                   20363|                         9E|     N8847A|                           3298|          10397|           1039707|             30397|   Atlanta, GA|         GA|             13|        Georgia|       34|        10146|         1014602|           30146|  Albany, GA|       GA|           13|      Georgia|     34|     1.0|                 1.0| 1000-1059|   18.0|   1117.0|  1149.0|   4.0|      1137|    16.0|     1.0|               1.0| 1100-1159|            1|               0.0|\n",
            "|2018-01-09|Endeavor Air Inc.|   ATL| ABY|    false|   false|      1037| 1222.0|          105.0|   105.0| 1322.0|          105.0|   37.0|          60.0|             60.0|   145.0|2018|      1|    1|         9|        2|                       DL|                           DL_CODESHARE|                   19790|                         DL|                           3298|               9E|                   20363|                         9E|     N304PQ|                           3298|          10397|           1039707|             30397|   Atlanta, GA|         GA|             13|        Georgia|       34|        10146|         1014602|           30146|  Albany, GA|       GA|           13|      Georgia|     34|     1.0|                 7.0| 1000-1059|   20.0|   1242.0|  1319.0|   3.0|      1137|   105.0|     1.0|               7.0| 1100-1159|            1|               0.0|\n",
            "|2018-01-10|Endeavor Air Inc.|   ATL| ABY|    false|   false|      1037| 1027.0|            0.0|   -10.0| 1126.0|            0.0|   37.0|          60.0|             59.0|   145.0|2018|      1|    1|        10|        3|                       DL|                           DL_CODESHARE|                   19790|                         DL|                           3298|               9E|                   20363|                         9E|     N8836A|                           3298|          10397|           1039707|             30397|   Atlanta, GA|         GA|             13|        Georgia|       34|        10146|         1014602|           30146|  Albany, GA|       GA|           13|      Georgia|     34|     0.0|                -1.0| 1000-1059|   19.0|   1046.0|  1123.0|   3.0|      1137|   -11.0|     0.0|              -1.0| 1100-1159|            1|               0.0|\n",
            "|2018-01-11|Endeavor Air Inc.|   ATL| ABY|    false|   false|      1037| 1033.0|            0.0|    -4.0| 1145.0|            8.0|   38.0|          60.0|             72.0|   145.0|2018|      1|    1|        11|        4|                       DL|                           DL_CODESHARE|                   19790|                         DL|                           3298|               9E|                   20363|                         9E|     N8888D|                           3298|          10397|           1039707|             30397|   Atlanta, GA|         GA|             13|        Georgia|       34|        10146|         1014602|           30146|  Albany, GA|       GA|           13|      Georgia|     34|     0.0|                -1.0| 1000-1059|   31.0|   1104.0|  1142.0|   3.0|      1137|     8.0|     0.0|               0.0| 1100-1159|            1|               0.0|\n",
            "|2018-01-12|Endeavor Air Inc.|   ATL| ABY|    false|   false|      1037| 1044.0|            7.0|     7.0| 1138.0|            1.0|   35.0|          60.0|             54.0|   145.0|2018|      1|    1|        12|        5|                       DL|                           DL_CODESHARE|                   19790|                         DL|                           3298|               9E|                   20363|                         9E|     N832AY|                           3298|          10397|           1039707|             30397|   Atlanta, GA|         GA|             13|        Georgia|       34|        10146|         1014602|           30146|  Albany, GA|       GA|           13|      Georgia|     34|     0.0|                 0.0| 1000-1059|   16.0|   1100.0|  1135.0|   3.0|      1137|     1.0|     0.0|               0.0| 1100-1159|            1|               0.0|\n",
            "|2018-01-13|Endeavor Air Inc.|   ATL| ABY|    false|   false|      1037| 1034.0|            0.0|    -3.0| 1126.0|            0.0|   34.0|          59.0|             52.0|   145.0|2018|      1|    1|        13|        6|                       DL|                           DL_CODESHARE|                   19790|                         DL|                           3298|               9E|                   20363|                         9E|     N8976E|                           3298|          10397|           1039707|             30397|   Atlanta, GA|         GA|             13|        Georgia|       34|        10146|         1014602|           30146|  Albany, GA|       GA|           13|      Georgia|     34|     0.0|                -1.0| 1000-1059|   16.0|   1050.0|  1124.0|   2.0|      1136|   -10.0|     0.0|              -1.0| 1100-1159|            1|               0.0|\n",
            "+----------+-----------------+------+----+---------+--------+----------+-------+---------------+--------+-------+---------------+-------+--------------+-----------------+--------+----+-------+-----+----------+---------+-------------------------+---------------------------------------+------------------------+---------------------------+-------------------------------+-----------------+------------------------+---------------------------+-----------+-------------------------------+---------------+------------------+------------------+--------------+-----------+---------------+---------------+---------+-------------+----------------+----------------+------------+---------+-------------+-------------+-------+--------+--------------------+----------+-------+---------+--------+------+----------+--------+--------+------------------+----------+-------------+------------------+\n",
            "only showing top 20 rows\n",
            "\n"
          ]
        }
      ],
      "source": [
        "#Se leen los datos\n",
        "\n",
        "combined_flights = spark.read.csv('/content/drive/MyDrive/Big-Data-Portafolio/Combined_Flights_2018.csv', header=True, inferSchema=True)\n",
        "combined_flights.show()"
      ]
    },
    {
      "cell_type": "code",
      "execution_count": null,
      "metadata": {
        "colab": {
          "base_uri": "https://localhost:8080/"
        },
        "id": "ZhFhQ3AuBVdz",
        "outputId": "c02fe4a4-78b2-4319-c53d-66496d8d8b43"
      },
      "outputs": [
        {
          "name": "stdout",
          "output_type": "stream",
          "text": [
            "+----------+-----------------+------+----+---------+--------+----------+-------+---------------+--------+-------+---------------+-------+--------------+-----------------+--------+----+-------+-----+----------+---------+-------------------------+---------------------------------------+------------------------+---------------------------+-------------------------------+-----------------+------------------------+---------------------------+-----------+-------------------------------+---------------+------------------+------------------+--------------------+-----------+---------------+---------------+---------+-------------+----------------+----------------+--------------------+---------+-------------+--------------+-------+--------+--------------------+----------+-------+---------+--------+------+----------+--------+--------+------------------+----------+-------------+------------------+\n",
            "|FlightDate|          Airline|Origin|Dest|Cancelled|Diverted|CRSDepTime|DepTime|DepDelayMinutes|DepDelay|ArrTime|ArrDelayMinutes|AirTime|CRSElapsedTime|ActualElapsedTime|Distance|Year|Quarter|Month|DayofMonth|DayOfWeek|Marketing_Airline_Network|Operated_or_Branded_Code_Share_Partners|DOT_ID_Marketing_Airline|IATA_Code_Marketing_Airline|Flight_Number_Marketing_Airline|Operating_Airline|DOT_ID_Operating_Airline|IATA_Code_Operating_Airline|Tail_Number|Flight_Number_Operating_Airline|OriginAirportID|OriginAirportSeqID|OriginCityMarketID|      OriginCityName|OriginState|OriginStateFips|OriginStateName|OriginWac|DestAirportID|DestAirportSeqID|DestCityMarketID|        DestCityName|DestState|DestStateFips| DestStateName|DestWac|DepDel15|DepartureDelayGroups|DepTimeBlk|TaxiOut|WheelsOff|WheelsOn|TaxiIn|CRSArrTime|ArrDelay|ArrDel15|ArrivalDelayGroups|ArrTimeBlk|DistanceGroup|DivAirportLandings|\n",
            "+----------+-----------------+------+----+---------+--------+----------+-------+---------------+--------+-------+---------------+-------+--------------+-----------------+--------+----+-------+-----+----------+---------+-------------------------+---------------------------------------+------------------------+---------------------------+-------------------------------+-----------------+------------------------+---------------------------+-----------+-------------------------------+---------------+------------------+------------------+--------------------+-----------+---------------+---------------+---------+-------------+----------------+----------------+--------------------+---------+-------------+--------------+-------+--------+--------------------+----------+-------+---------+--------+------+----------+--------+--------+------------------+----------+-------------+------------------+\n",
            "|2018-01-17|Endeavor Air Inc.|   ATL| ABY|     true|   false|      1037|   null|           null|    null|   null|           null|   null|          60.0|             null|   145.0|2018|      1|    1|        17|        3|                       DL|                           DL_CODESHARE|                   19790|                         DL|                           3298|               9E|                   20363|                         9E|     N8972E|                           3298|          10397|           1039707|             30397|         Atlanta, GA|         GA|             13|        Georgia|       34|        10146|         1014602|           30146|          Albany, GA|       GA|           13|       Georgia|     34|    null|                null| 1000-1059|   null|     null|    null|  null|      1137|    null|    null|              null| 1100-1159|            1|               0.0|\n",
            "|2018-01-12|Endeavor Air Inc.|   ATL| EVV|     true|   false|       939|   null|           null|    null|   null|           null|   null|          89.0|             null|   350.0|2018|      1|    1|        12|        5|                       DL|                           DL_CODESHARE|                   19790|                         DL|                           3299|               9E|                   20363|                         9E|     N8928A|                           3299|          10397|           1039707|             30397|         Atlanta, GA|         GA|             13|        Georgia|       34|        11612|         1161206|           31612|      Evansville, IN|       IN|           18|       Indiana|     42|    null|                null| 0900-0959|   null|     null|    null|  null|      1008|    null|    null|              null| 1000-1059|            2|               0.0|\n",
            "|2018-01-17|Endeavor Air Inc.|   ATL| EVV|     true|   false|       939|   null|           null|    null|   null|           null|   null|          89.0|             null|   350.0|2018|      1|    1|        17|        3|                       DL|                           DL_CODESHARE|                   19790|                         DL|                           3299|               9E|                   20363|                         9E|     N8688C|                           3299|          10397|           1039707|             30397|         Atlanta, GA|         GA|             13|        Georgia|       34|        11612|         1161206|           31612|      Evansville, IN|       IN|           18|       Indiana|     42|    null|                null| 0900-0959|   null|     null|    null|  null|      1008|    null|    null|              null| 1000-1059|            2|               0.0|\n",
            "|2018-01-04|Endeavor Air Inc.|   ATL| EWN|     true|   false|      1225|   null|           null|    null|   null|           null|   null|          85.0|             null|   433.0|2018|      1|    1|         4|        4|                       DL|                           DL_CODESHARE|                   19790|                         DL|                           3301|               9E|                   20363|                         9E|     N836AY|                           3301|          10397|           1039707|             30397|         Atlanta, GA|         GA|             13|        Georgia|       34|        11617|         1161708|           31617|New Bern/Morehead...|       NC|           37|North Carolina|     36|    null|                null| 1200-1259|   null|     null|    null|  null|      1350|    null|    null|              null| 1300-1359|            2|               0.0|\n",
            "|2018-01-04|Endeavor Air Inc.|   EWN| ATL|     true|   false|      1415|   null|           null|    null|   null|           null|   null|         110.0|             null|   433.0|2018|      1|    1|         4|        4|                       DL|                           DL_CODESHARE|                   19790|                         DL|                           3301|               9E|                   20363|                         9E|     N836AY|                           3301|          11617|           1161708|             31617|New Bern/Morehead...|         NC|             37| North Carolina|       36|        10397|         1039707|           30397|         Atlanta, GA|       GA|           13|       Georgia|     34|    null|                null| 1400-1459|   null|     null|    null|  null|      1605|    null|    null|              null| 1600-1659|            2|               0.0|\n",
            "|2018-01-17|Endeavor Air Inc.|   ATL| FAY|     true|   false|      1708|   null|           null|    null|   null|           null|   null|          80.0|             null|   331.0|2018|      1|    1|        17|        3|                       DL|                           DL_CODESHARE|                   19790|                         DL|                           3302|               9E|                   20363|                         9E|     N980EV|                           3302|          10397|           1039707|             30397|         Atlanta, GA|         GA|             13|        Georgia|       34|        11641|         1164102|           31641|    Fayetteville, NC|       NC|           37|North Carolina|     36|    null|                null| 1700-1759|   null|     null|    null|  null|      1828|    null|    null|              null| 1800-1859|            2|               0.0|\n",
            "|2018-01-16|Endeavor Air Inc.|   FAY| ATL|     true|   false|      1853|   null|           null|    null|   null|           null|   null|          97.0|             null|   331.0|2018|      1|    1|        16|        2|                       DL|                           DL_CODESHARE|                   19790|                         DL|                           3302|               9E|                   20363|                         9E|     N8683B|                           3302|          11641|           1164102|             31641|    Fayetteville, NC|         NC|             37| North Carolina|       36|        10397|         1039707|           30397|         Atlanta, GA|       GA|           13|       Georgia|     34|    null|                null| 1800-1859|   null|     null|    null|  null|      2030|    null|    null|              null| 2000-2059|            2|               0.0|\n",
            "|2018-01-17|Endeavor Air Inc.|   FAY| ATL|     true|   false|      1853|   null|           null|    null|   null|           null|   null|          97.0|             null|   331.0|2018|      1|    1|        17|        3|                       DL|                           DL_CODESHARE|                   19790|                         DL|                           3302|               9E|                   20363|                         9E|     N980EV|                           3302|          11641|           1164102|             31641|    Fayetteville, NC|         NC|             37| North Carolina|       36|        10397|         1039707|           30397|         Atlanta, GA|       GA|           13|       Georgia|     34|    null|                null| 1800-1859|   null|     null|    null|  null|      2030|    null|    null|              null| 2000-2059|            2|               0.0|\n",
            "|2018-01-04|Endeavor Air Inc.|   RDU| BOS|     true|   false|      1420|   null|           null|    null|   null|           null|   null|         119.0|             null|   612.0|2018|      1|    1|         4|        4|                       DL|                           DL_CODESHARE|                   19790|                         DL|                           3303|               9E|                   20363|                         9E|     N905XJ|                           3303|          14492|           1449202|             34492|  Raleigh/Durham, NC|         NC|             37| North Carolina|       36|        10721|         1072102|           30721|          Boston, MA|       MA|           25| Massachusetts|     13|    null|                null| 1400-1459|   null|     null|    null|  null|      1619|    null|    null|              null| 1600-1659|            3|               0.0|\n",
            "|2018-01-12|Endeavor Air Inc.|   RDU| BOS|     true|   false|      1420|   null|           null|    null|   null|           null|   null|         119.0|             null|   612.0|2018|      1|    1|        12|        5|                       DL|                           DL_CODESHARE|                   19790|                         DL|                           3303|               9E|                   20363|                         9E|     N186PQ|                           3303|          14492|           1449202|             34492|  Raleigh/Durham, NC|         NC|             37| North Carolina|       36|        10721|         1072102|           30721|          Boston, MA|       MA|           25| Massachusetts|     13|    null|                null| 1400-1459|   null|     null|    null|  null|      1619|    null|    null|              null| 1600-1659|            3|               0.0|\n",
            "|2018-01-17|Endeavor Air Inc.|   RDU| BOS|     true|   false|      1420|   null|           null|    null|   null|           null|   null|         119.0|             null|   612.0|2018|      1|    1|        17|        3|                       DL|                           DL_CODESHARE|                   19790|                         DL|                           3303|               9E|                   20363|                         9E|     N313PQ|                           3303|          14492|           1449202|             34492|  Raleigh/Durham, NC|         NC|             37| North Carolina|       36|        10721|         1072102|           30721|          Boston, MA|       MA|           25| Massachusetts|     13|    null|                null| 1400-1459|   null|     null|    null|  null|      1619|    null|    null|              null| 1600-1659|            3|               0.0|\n",
            "|2018-01-18|Endeavor Air Inc.|   RDU| BOS|     true|   false|      1420|   null|           null|    null|   null|           null|   null|         119.0|             null|   612.0|2018|      1|    1|        18|        4|                       DL|                           DL_CODESHARE|                   19790|                         DL|                           3303|               9E|                   20363|                         9E|     N904XJ|                           3303|          14492|           1449202|             34492|  Raleigh/Durham, NC|         NC|             37| North Carolina|       36|        10721|         1072102|           30721|          Boston, MA|       MA|           25| Massachusetts|     13|    null|                null| 1400-1459|   null|     null|    null|  null|      1619|    null|    null|              null| 1600-1659|            3|               0.0|\n",
            "|2018-01-17|Endeavor Air Inc.|   ATL| AEX|     true|   false|       939|   null|           null|    null|   null|           null|   null|         113.0|             null|   500.0|2018|      1|    1|        17|        3|                       DL|                           DL_CODESHARE|                   19790|                         DL|                           3304|               9E|                   20363|                         9E|     N8721B|                           3304|          10397|           1039707|             30397|         Atlanta, GA|         GA|             13|        Georgia|       34|        10185|         1018502|           30185|      Alexandria, LA|       LA|           22|     Louisiana|     72|    null|                null| 0900-0959|   null|     null|    null|  null|      1032|    null|    null|              null| 1000-1059|            3|               0.0|\n",
            "|2018-01-13|Endeavor Air Inc.|   SRQ| JFK|     true|   false|      1225|   null|           null|    null|   null|           null|   null|         168.0|             null|  1041.0|2018|      1|    1|        13|        6|                       DL|                           DL_CODESHARE|                   19790|                         DL|                           3304|               9E|                   20363|                         9E|     N301PQ|                           3304|          14986|           1498603|             34986|Sarasota/Bradento...|         FL|             12|        Florida|       33|        12478|         1247805|           31703|        New York, NY|       NY|           36|      New York|     22|    null|                null| 1200-1259|   null|     null|    null|  null|      1513|    null|    null|              null| 1500-1559|            5|               0.0|\n",
            "|2018-01-08|Endeavor Air Inc.|   ATL| PIA|     true|   false|      1001|   null|           null|    null|   null|           null|   null|         122.0|             null|   565.0|2018|      1|    1|         8|        1|                       DL|                           DL_CODESHARE|                   19790|                         DL|                           3305|               9E|                   20363|                         9E|     N8883E|                           3305|          10397|           1039707|             30397|         Atlanta, GA|         GA|             13|        Georgia|       34|        14108|         1410803|           34108|          Peoria, IL|       IL|           17|      Illinois|     41|    null|                null| 1000-1059|   null|     null|    null|  null|      1103|    null|    null|              null| 1100-1159|            3|               0.0|\n",
            "|2018-01-03|Endeavor Air Inc.|   ATL| EWN|     true|   false|      1951|   null|           null|    null|   null|           null|   null|          89.0|             null|   433.0|2018|      1|    1|         3|        3|                       DL|                           DL_CODESHARE|                   19790|                         DL|                           3307|               9E|                   20363|                         9E|     N8869B|                           3307|          10397|           1039707|             30397|         Atlanta, GA|         GA|             13|        Georgia|       34|        11617|         1161708|           31617|New Bern/Morehead...|       NC|           37|North Carolina|     36|    null|                null| 1900-1959|   null|     null|    null|  null|      2120|    null|    null|              null| 2100-2159|            2|               0.0|\n",
            "|2018-01-04|Endeavor Air Inc.|   ATL| EWN|     true|   false|      1951|   null|           null|    null|   null|           null|   null|          89.0|             null|   433.0|2018|      1|    1|         4|        4|                       DL|                           DL_CODESHARE|                   19790|                         DL|                           3307|               9E|                   20363|                         9E|     N8883E|                           3307|          10397|           1039707|             30397|         Atlanta, GA|         GA|             13|        Georgia|       34|        11617|         1161708|           31617|New Bern/Morehead...|       NC|           37|North Carolina|     36|    null|                null| 1900-1959|   null|     null|    null|  null|      2120|    null|    null|              null| 2100-2159|            2|               0.0|\n",
            "|2018-01-12|Endeavor Air Inc.|   EVV| DTW|     true|   false|      1035|   null|           null|    null|   null|           null|   null|          83.0|             null|   363.0|2018|      1|    1|        12|        5|                       DL|                           DL_CODESHARE|                   19790|                         DL|                           3308|               9E|                   20363|                         9E|     N8928A|                           3308|          11612|           1161206|             31612|      Evansville, IN|         IN|             18|        Indiana|       42|        11433|         1143302|           31295|         Detroit, MI|       MI|           26|      Michigan|     43|    null|                null| 1000-1059|   null|     null|    null|  null|      1258|    null|    null|              null| 1200-1259|            2|               0.0|\n",
            "|2018-01-08|Endeavor Air Inc.|   DTW| PIA|     true|   false|      1005|   null|           null|    null|   null|           null|   null|          99.0|             null|   346.0|2018|      1|    1|         8|        1|                       DL|                           DL_CODESHARE|                   19790|                         DL|                           3309|               9E|                   20363|                         9E|     N8694A|                           3309|          11433|           1143302|             31295|         Detroit, MI|         MI|             26|       Michigan|       43|        14108|         1410803|           34108|          Peoria, IL|       IL|           17|      Illinois|     41|    null|                null| 1000-1059|   null|     null|    null|  null|      1044|    null|    null|              null| 1000-1059|            2|               0.0|\n",
            "|2018-01-04|Endeavor Air Inc.|   BGR| LGA|     true|   false|       655|   null|           null|    null|   null|           null|   null|         123.0|             null|   378.0|2018|      1|    1|         4|        4|                       DL|                           DL_CODESHARE|                   19790|                         DL|                           3310|               9E|                   20363|                         9E|     N832AY|                           3310|          10581|           1058102|             30581|          Bangor, ME|         ME|             23|          Maine|       12|        12953|         1295304|           31703|        New York, NY|       NY|           36|      New York|     22|    null|                null| 0600-0659|   null|     null|    null|  null|       858|    null|    null|              null| 0800-0859|            2|               0.0|\n",
            "+----------+-----------------+------+----+---------+--------+----------+-------+---------------+--------+-------+---------------+-------+--------------+-----------------+--------+----+-------+-----+----------+---------+-------------------------+---------------------------------------+------------------------+---------------------------+-------------------------------+-----------------+------------------------+---------------------------+-----------+-------------------------------+---------------+------------------+------------------+--------------------+-----------+---------------+---------------+---------+-------------+----------------+----------------+--------------------+---------+-------------+--------------+-------+--------+--------------------+----------+-------+---------+--------+------+----------+--------+--------+------------------+----------+-------------+------------------+\n",
            "only showing top 20 rows\n",
            "\n"
          ]
        }
      ],
      "source": [
        "#Se muestran las características cuando el vuelo fue cancelado\n",
        "combined_flights.filter(\"Cancelled==true\").show()"
      ]
    },
    {
      "cell_type": "code",
      "execution_count": null,
      "metadata": {
        "colab": {
          "base_uri": "https://localhost:8080/"
        },
        "id": "dWq_9DTgDsXf",
        "outputId": "219abffe-cd9e-47ea-d10e-048cefd522a4"
      },
      "outputs": [
        {
          "name": "stdout",
          "output_type": "stream",
          "text": [
            "+----------+-----------------+------+----+---------+--------+----------+-------+---------------+--------+-------+---------------+-------+--------------+-----------------+--------+----+-------+-----+----------+---------+-------------------------+---------------------------------------+------------------------+---------------------------+-------------------------------+-----------------+------------------------+---------------------------+-----------+-------------------------------+---------------+------------------+------------------+--------------+-----------+---------------+---------------+---------+-------------+----------------+----------------+------------+---------+-------------+-------------+-------+--------+--------------------+----------+-------+---------+--------+------+----------+--------+--------+------------------+----------+-------------+------------------+\n",
            "|FlightDate|          Airline|Origin|Dest|Cancelled|Diverted|CRSDepTime|DepTime|DepDelayMinutes|DepDelay|ArrTime|ArrDelayMinutes|AirTime|CRSElapsedTime|ActualElapsedTime|Distance|Year|Quarter|Month|DayofMonth|DayOfWeek|Marketing_Airline_Network|Operated_or_Branded_Code_Share_Partners|DOT_ID_Marketing_Airline|IATA_Code_Marketing_Airline|Flight_Number_Marketing_Airline|Operating_Airline|DOT_ID_Operating_Airline|IATA_Code_Operating_Airline|Tail_Number|Flight_Number_Operating_Airline|OriginAirportID|OriginAirportSeqID|OriginCityMarketID|OriginCityName|OriginState|OriginStateFips|OriginStateName|OriginWac|DestAirportID|DestAirportSeqID|DestCityMarketID|DestCityName|DestState|DestStateFips|DestStateName|DestWac|DepDel15|DepartureDelayGroups|DepTimeBlk|TaxiOut|WheelsOff|WheelsOn|TaxiIn|CRSArrTime|ArrDelay|ArrDel15|ArrivalDelayGroups|ArrTimeBlk|DistanceGroup|DivAirportLandings|\n",
            "+----------+-----------------+------+----+---------+--------+----------+-------+---------------+--------+-------+---------------+-------+--------------+-----------------+--------+----+-------+-----+----------+---------+-------------------------+---------------------------------------+------------------------+---------------------------+-------------------------------+-----------------+------------------------+---------------------------+-----------+-------------------------------+---------------+------------------+------------------+--------------+-----------+---------------+---------------+---------+-------------+----------------+----------------+------------+---------+-------------+-------------+-------+--------+--------------------+----------+-------+---------+--------+------+----------+--------+--------+------------------+----------+-------------+------------------+\n",
            "|2018-01-23|Endeavor Air Inc.|   ABY| ATL|    false|   false|      1202| 1157.0|            0.0|    -5.0| 1256.0|            0.0|   38.0|          62.0|             59.0|   145.0|2018|      1|    1|        23|        2|                       DL|                           DL_CODESHARE|                   19790|                         DL|                           3298|               9E|                   20363|                         9E|     N8928A|                           3298|          10146|           1014602|             30146|    Albany, GA|         GA|             13|        Georgia|       34|        10397|         1039707|           30397| Atlanta, GA|       GA|           13|      Georgia|     34|     0.0|                -1.0| 1200-1259|   14.0|   1211.0|  1249.0|   7.0|      1304|    -8.0|     0.0|              -1.0| 1300-1359|            1|               0.0|\n",
            "|2018-01-24|Endeavor Air Inc.|   ABY| ATL|    false|   false|      1202| 1157.0|            0.0|    -5.0| 1258.0|            0.0|   36.0|          62.0|             61.0|   145.0|2018|      1|    1|        24|        3|                       DL|                           DL_CODESHARE|                   19790|                         DL|                           3298|               9E|                   20363|                         9E|     N800AY|                           3298|          10146|           1014602|             30146|    Albany, GA|         GA|             13|        Georgia|       34|        10397|         1039707|           30397| Atlanta, GA|       GA|           13|      Georgia|     34|     0.0|                -1.0| 1200-1259|   13.0|   1210.0|  1246.0|  12.0|      1304|    -6.0|     0.0|              -1.0| 1300-1359|            1|               0.0|\n",
            "|2018-01-25|Endeavor Air Inc.|   ABY| ATL|    false|   false|      1202| 1153.0|            0.0|    -9.0| 1302.0|            0.0|   40.0|          62.0|             69.0|   145.0|2018|      1|    1|        25|        4|                       DL|                           DL_CODESHARE|                   19790|                         DL|                           3298|               9E|                   20363|                         9E|     N8836A|                           3298|          10146|           1014602|             30146|    Albany, GA|         GA|             13|        Georgia|       34|        10397|         1039707|           30397| Atlanta, GA|       GA|           13|      Georgia|     34|     0.0|                -1.0| 1200-1259|   18.0|   1211.0|  1251.0|  11.0|      1304|    -2.0|     0.0|              -1.0| 1300-1359|            1|               0.0|\n",
            "|2018-01-26|Endeavor Air Inc.|   ABY| ATL|    false|   false|      1202| 1150.0|            0.0|   -12.0| 1253.0|            0.0|   35.0|          62.0|             63.0|   145.0|2018|      1|    1|        26|        5|                       DL|                           DL_CODESHARE|                   19790|                         DL|                           3298|               9E|                   20363|                         9E|     N800AY|                           3298|          10146|           1014602|             30146|    Albany, GA|         GA|             13|        Georgia|       34|        10397|         1039707|           30397| Atlanta, GA|       GA|           13|      Georgia|     34|     0.0|                -1.0| 1200-1259|   17.0|   1207.0|  1242.0|  11.0|      1304|   -11.0|     0.0|              -1.0| 1300-1359|            1|               0.0|\n",
            "|2018-01-27|Endeavor Air Inc.|   ABY| ATL|    false|   false|      1400| 1355.0|            0.0|    -5.0| 1459.0|            0.0|   36.0|          60.0|             64.0|   145.0|2018|      1|    1|        27|        6|                       DL|                           DL_CODESHARE|                   19790|                         DL|                           3298|               9E|                   20363|                         9E|     N8839E|                           3298|          10146|           1014602|             30146|    Albany, GA|         GA|             13|        Georgia|       34|        10397|         1039707|           30397| Atlanta, GA|       GA|           13|      Georgia|     34|     0.0|                -1.0| 1400-1459|   17.0|   1412.0|  1448.0|  11.0|      1500|    -1.0|     0.0|              -1.0| 1500-1559|            1|               0.0|\n",
            "|2018-01-28|Endeavor Air Inc.|   ABY| ATL|    false|   false|      1202| 1202.0|           null|    null| 1326.0|           22.0|   37.0|          62.0|             84.0|   145.0|2018|      1|    1|        28|        7|                       DL|                           DL_CODESHARE|                   19790|                         DL|                           3298|               9E|                   20363|                         9E|     N8918B|                           3298|          10146|           1014602|             30146|    Albany, GA|         GA|             13|        Georgia|       34|        10397|         1039707|           30397| Atlanta, GA|       GA|           13|      Georgia|     34|    null|                null| 1200-1259|   34.0|   1236.0|  1313.0|  13.0|      1304|    22.0|     1.0|               1.0| 1300-1359|            1|               0.0|\n",
            "|2018-01-29|Endeavor Air Inc.|   ABY| ATL|    false|   false|      1202| 1204.0|            2.0|     2.0| 1303.0|            0.0|   34.0|          62.0|             59.0|   145.0|2018|      1|    1|        29|        1|                       DL|                           DL_CODESHARE|                   19790|                         DL|                           3298|               9E|                   20363|                         9E|     N8783E|                           3298|          10146|           1014602|             30146|    Albany, GA|         GA|             13|        Georgia|       34|        10397|         1039707|           30397| Atlanta, GA|       GA|           13|      Georgia|     34|     0.0|                 0.0| 1200-1259|   15.0|   1219.0|  1253.0|  10.0|      1304|    -1.0|     0.0|              -1.0| 1300-1359|            1|               0.0|\n",
            "|2018-01-30|Endeavor Air Inc.|   ABY| ATL|    false|   false|      1202| 1153.0|            0.0|    -9.0| 1255.0|            0.0|   44.0|          62.0|             62.0|   145.0|2018|      1|    1|        30|        2|                       DL|                           DL_CODESHARE|                   19790|                         DL|                           3298|               9E|                   20363|                         9E|     N8946A|                           3298|          10146|           1014602|             30146|    Albany, GA|         GA|             13|        Georgia|       34|        10397|         1039707|           30397| Atlanta, GA|       GA|           13|      Georgia|     34|     0.0|                -1.0| 1200-1259|    7.0|   1200.0|  1244.0|  11.0|      1304|    -9.0|     0.0|              -1.0| 1300-1359|            1|               0.0|\n",
            "|2018-01-31|Endeavor Air Inc.|   ABY| ATL|    false|   false|      1202| 1153.0|            0.0|    -9.0| 1304.0|           null|   37.0|          62.0|             71.0|   145.0|2018|      1|    1|        31|        3|                       DL|                           DL_CODESHARE|                   19790|                         DL|                           3298|               9E|                   20363|                         9E|     N8918B|                           3298|          10146|           1014602|             30146|    Albany, GA|         GA|             13|        Georgia|       34|        10397|         1039707|           30397| Atlanta, GA|       GA|           13|      Georgia|     34|     0.0|                -1.0| 1200-1259|   26.0|   1219.0|  1256.0|   8.0|      1304|    null|    null|              null| 1300-1359|            1|               0.0|\n",
            "|2018-01-03|Endeavor Air Inc.|   ATL| ABY|    false|   false|      1037| 1101.0|           24.0|    24.0| 1159.0|           22.0|   32.0|          60.0|             58.0|   145.0|2018|      1|    1|         3|        3|                       DL|                           DL_CODESHARE|                   19790|                         DL|                           3298|               9E|                   20363|                         9E|     N981EV|                           3298|          10397|           1039707|             30397|   Atlanta, GA|         GA|             13|        Georgia|       34|        10146|         1014602|           30146|  Albany, GA|       GA|           13|      Georgia|     34|     1.0|                 1.0| 1000-1059|   23.0|   1124.0|  1156.0|   3.0|      1137|    22.0|     1.0|               1.0| 1100-1159|            1|               0.0|\n",
            "|2018-01-04|Endeavor Air Inc.|   ATL| ABY|    false|   false|      1037| 1032.0|            0.0|    -5.0| 1125.0|            0.0|   27.0|          60.0|             53.0|   145.0|2018|      1|    1|         4|        4|                       DL|                           DL_CODESHARE|                   19790|                         DL|                           3298|               9E|                   20363|                         9E|     N981EV|                           3298|          10397|           1039707|             30397|   Atlanta, GA|         GA|             13|        Georgia|       34|        10146|         1014602|           30146|  Albany, GA|       GA|           13|      Georgia|     34|     0.0|                -1.0| 1000-1059|   23.0|   1055.0|  1122.0|   3.0|      1137|   -12.0|     0.0|              -1.0| 1100-1159|            1|               0.0|\n",
            "|2018-01-05|Endeavor Air Inc.|   ATL| ABY|    false|   false|      1037| 1032.0|            0.0|    -5.0| 1124.0|            0.0|   29.0|          60.0|             52.0|   145.0|2018|      1|    1|         5|        5|                       DL|                           DL_CODESHARE|                   19790|                         DL|                           3298|               9E|                   20363|                         9E|     N8877A|                           3298|          10397|           1039707|             30397|   Atlanta, GA|         GA|             13|        Georgia|       34|        10146|         1014602|           30146|  Albany, GA|       GA|           13|      Georgia|     34|     0.0|                -1.0| 1000-1059|   20.0|   1052.0|  1121.0|   3.0|      1137|   -13.0|     0.0|              -1.0| 1100-1159|            1|               0.0|\n",
            "|2018-01-06|Endeavor Air Inc.|   ATL| ABY|    false|   false|      1037| 1032.0|            0.0|    -5.0| 1126.0|            0.0|   34.0|          59.0|             54.0|   145.0|2018|      1|    1|         6|        6|                       DL|                           DL_CODESHARE|                   19790|                         DL|                           3298|               9E|                   20363|                         9E|     N8970D|                           3298|          10397|           1039707|             30397|   Atlanta, GA|         GA|             13|        Georgia|       34|        10146|         1014602|           30146|  Albany, GA|       GA|           13|      Georgia|     34|     0.0|                -1.0| 1000-1059|   18.0|   1050.0|  1124.0|   2.0|      1136|   -10.0|     0.0|              -1.0| 1100-1159|            1|               0.0|\n",
            "|2018-01-07|Endeavor Air Inc.|   ATL| ABY|    false|   false|      1037| 1034.0|            0.0|    -3.0| 1124.0|            0.0|   29.0|          60.0|             50.0|   145.0|2018|      1|    1|         7|        7|                       DL|                           DL_CODESHARE|                   19790|                         DL|                           3298|               9E|                   20363|                         9E|     N8980A|                           3298|          10397|           1039707|             30397|   Atlanta, GA|         GA|             13|        Georgia|       34|        10146|         1014602|           30146|  Albany, GA|       GA|           13|      Georgia|     34|     0.0|                -1.0| 1000-1059|   18.0|   1052.0|  1121.0|   3.0|      1137|   -13.0|     0.0|              -1.0| 1100-1159|            1|               0.0|\n",
            "|2018-01-08|Endeavor Air Inc.|   ATL| ABY|    false|   false|      1037| 1059.0|           22.0|    22.0| 1153.0|           16.0|   32.0|          60.0|             54.0|   145.0|2018|      1|    1|         8|        1|                       DL|                           DL_CODESHARE|                   19790|                         DL|                           3298|               9E|                   20363|                         9E|     N8847A|                           3298|          10397|           1039707|             30397|   Atlanta, GA|         GA|             13|        Georgia|       34|        10146|         1014602|           30146|  Albany, GA|       GA|           13|      Georgia|     34|     1.0|                 1.0| 1000-1059|   18.0|   1117.0|  1149.0|   4.0|      1137|    16.0|     1.0|               1.0| 1100-1159|            1|               0.0|\n",
            "|2018-01-09|Endeavor Air Inc.|   ATL| ABY|    false|   false|      1037| 1222.0|          105.0|   105.0| 1322.0|          105.0|   37.0|          60.0|             60.0|   145.0|2018|      1|    1|         9|        2|                       DL|                           DL_CODESHARE|                   19790|                         DL|                           3298|               9E|                   20363|                         9E|     N304PQ|                           3298|          10397|           1039707|             30397|   Atlanta, GA|         GA|             13|        Georgia|       34|        10146|         1014602|           30146|  Albany, GA|       GA|           13|      Georgia|     34|     1.0|                 7.0| 1000-1059|   20.0|   1242.0|  1319.0|   3.0|      1137|   105.0|     1.0|               7.0| 1100-1159|            1|               0.0|\n",
            "|2018-01-10|Endeavor Air Inc.|   ATL| ABY|    false|   false|      1037| 1027.0|            0.0|   -10.0| 1126.0|            0.0|   37.0|          60.0|             59.0|   145.0|2018|      1|    1|        10|        3|                       DL|                           DL_CODESHARE|                   19790|                         DL|                           3298|               9E|                   20363|                         9E|     N8836A|                           3298|          10397|           1039707|             30397|   Atlanta, GA|         GA|             13|        Georgia|       34|        10146|         1014602|           30146|  Albany, GA|       GA|           13|      Georgia|     34|     0.0|                -1.0| 1000-1059|   19.0|   1046.0|  1123.0|   3.0|      1137|   -11.0|     0.0|              -1.0| 1100-1159|            1|               0.0|\n",
            "|2018-01-11|Endeavor Air Inc.|   ATL| ABY|    false|   false|      1037| 1033.0|            0.0|    -4.0| 1145.0|            8.0|   38.0|          60.0|             72.0|   145.0|2018|      1|    1|        11|        4|                       DL|                           DL_CODESHARE|                   19790|                         DL|                           3298|               9E|                   20363|                         9E|     N8888D|                           3298|          10397|           1039707|             30397|   Atlanta, GA|         GA|             13|        Georgia|       34|        10146|         1014602|           30146|  Albany, GA|       GA|           13|      Georgia|     34|     0.0|                -1.0| 1000-1059|   31.0|   1104.0|  1142.0|   3.0|      1137|     8.0|     0.0|               0.0| 1100-1159|            1|               0.0|\n",
            "|2018-01-12|Endeavor Air Inc.|   ATL| ABY|    false|   false|      1037| 1044.0|            7.0|     7.0| 1138.0|            1.0|   35.0|          60.0|             54.0|   145.0|2018|      1|    1|        12|        5|                       DL|                           DL_CODESHARE|                   19790|                         DL|                           3298|               9E|                   20363|                         9E|     N832AY|                           3298|          10397|           1039707|             30397|   Atlanta, GA|         GA|             13|        Georgia|       34|        10146|         1014602|           30146|  Albany, GA|       GA|           13|      Georgia|     34|     0.0|                 0.0| 1000-1059|   16.0|   1100.0|  1135.0|   3.0|      1137|     1.0|     0.0|               0.0| 1100-1159|            1|               0.0|\n",
            "|2018-01-13|Endeavor Air Inc.|   ATL| ABY|    false|   false|      1037| 1034.0|            0.0|    -3.0| 1126.0|            0.0|   34.0|          59.0|             52.0|   145.0|2018|      1|    1|        13|        6|                       DL|                           DL_CODESHARE|                   19790|                         DL|                           3298|               9E|                   20363|                         9E|     N8976E|                           3298|          10397|           1039707|             30397|   Atlanta, GA|         GA|             13|        Georgia|       34|        10146|         1014602|           30146|  Albany, GA|       GA|           13|      Georgia|     34|     0.0|                -1.0| 1000-1059|   16.0|   1050.0|  1124.0|   2.0|      1136|   -10.0|     0.0|              -1.0| 1100-1159|            1|               0.0|\n",
            "+----------+-----------------+------+----+---------+--------+----------+-------+---------------+--------+-------+---------------+-------+--------------+-----------------+--------+----+-------+-----+----------+---------+-------------------------+---------------------------------------+------------------------+---------------------------+-------------------------------+-----------------+------------------------+---------------------------+-----------+-------------------------------+---------------+------------------+------------------+--------------+-----------+---------------+---------------+---------+-------------+----------------+----------------+------------+---------+-------------+-------------+-------+--------+--------------------+----------+-------+---------+--------+------+----------+--------+--------+------------------+----------+-------------+------------------+\n",
            "only showing top 20 rows\n",
            "\n"
          ]
        }
      ],
      "source": [
        "#Se muestran las características cuando el vuelo no fue cancelado\n",
        "combined_flights.filter(\"Cancelled==false\").show()"
      ]
    },
    {
      "cell_type": "code",
      "execution_count": null,
      "metadata": {
        "id": "u1XjX_kCDwnE"
      },
      "outputs": [],
      "source": [
        "#Se quitan las columnas que son siempre null cuando el vuelo fue cancelado para que no haga una predicción automática el modelo\n",
        "columns_objects_input = [\"DepTime\", \"DepDelayMinutes\", \"DepDelay\", \"ArrTime\", \"ArrDelayMinutes\", \"AirTime\", \"ActualElapsedTime\", \"DepDel15\", \"DepartureDelayGroups\", \"TaxiOut\", \"WheelsOff\", \"WheelsOn\", \"TaxiIn\", \"ArrDelay\", \"ArrDel15\", \"ArrivalDelayGroups\"]\n",
        "combined_flights = combined_flights.drop(*columns_objects_input)"
      ]
    },
    {
      "cell_type": "code",
      "execution_count": null,
      "metadata": {
        "colab": {
          "base_uri": "https://localhost:8080/"
        },
        "id": "-3mrNpMrMran",
        "outputId": "f55a5dd8-1c71-411a-af3e-9648eb5a8c9d"
      },
      "outputs": [
        {
          "name": "stdout",
          "output_type": "stream",
          "text": [
            "root\n",
            " |-- FlightDate: string (nullable = true)\n",
            " |-- Airline: string (nullable = true)\n",
            " |-- Origin: string (nullable = true)\n",
            " |-- Dest: string (nullable = true)\n",
            " |-- Cancelled: boolean (nullable = true)\n",
            " |-- Diverted: boolean (nullable = true)\n",
            " |-- CRSDepTime: integer (nullable = true)\n",
            " |-- CRSElapsedTime: double (nullable = true)\n",
            " |-- Distance: double (nullable = true)\n",
            " |-- Year: integer (nullable = true)\n",
            " |-- Quarter: integer (nullable = true)\n",
            " |-- Month: integer (nullable = true)\n",
            " |-- DayofMonth: integer (nullable = true)\n",
            " |-- DayOfWeek: integer (nullable = true)\n",
            " |-- Marketing_Airline_Network: string (nullable = true)\n",
            " |-- Operated_or_Branded_Code_Share_Partners: string (nullable = true)\n",
            " |-- DOT_ID_Marketing_Airline: integer (nullable = true)\n",
            " |-- IATA_Code_Marketing_Airline: string (nullable = true)\n",
            " |-- Flight_Number_Marketing_Airline: integer (nullable = true)\n",
            " |-- Operating_Airline: string (nullable = true)\n",
            " |-- DOT_ID_Operating_Airline: integer (nullable = true)\n",
            " |-- IATA_Code_Operating_Airline: string (nullable = true)\n",
            " |-- Tail_Number: string (nullable = true)\n",
            " |-- Flight_Number_Operating_Airline: integer (nullable = true)\n",
            " |-- OriginAirportID: integer (nullable = true)\n",
            " |-- OriginAirportSeqID: integer (nullable = true)\n",
            " |-- OriginCityMarketID: integer (nullable = true)\n",
            " |-- OriginCityName: string (nullable = true)\n",
            " |-- OriginState: string (nullable = true)\n",
            " |-- OriginStateFips: integer (nullable = true)\n",
            " |-- OriginStateName: string (nullable = true)\n",
            " |-- OriginWac: integer (nullable = true)\n",
            " |-- DestAirportID: integer (nullable = true)\n",
            " |-- DestAirportSeqID: integer (nullable = true)\n",
            " |-- DestCityMarketID: integer (nullable = true)\n",
            " |-- DestCityName: string (nullable = true)\n",
            " |-- DestState: string (nullable = true)\n",
            " |-- DestStateFips: integer (nullable = true)\n",
            " |-- DestStateName: string (nullable = true)\n",
            " |-- DestWac: integer (nullable = true)\n",
            " |-- DepTimeBlk: string (nullable = true)\n",
            " |-- CRSArrTime: integer (nullable = true)\n",
            " |-- ArrTimeBlk: string (nullable = true)\n",
            " |-- DistanceGroup: integer (nullable = true)\n",
            " |-- DivAirportLandings: double (nullable = true)\n",
            "\n"
          ]
        }
      ],
      "source": [
        "combined_flights.printSchema()"
      ]
    },
    {
      "cell_type": "code",
      "execution_count": null,
      "metadata": {
        "colab": {
          "base_uri": "https://localhost:8080/"
        },
        "id": "vQPqhBp_l0-f",
        "outputId": "16240250-90a3-42f4-ade5-90dec9d2ed7b"
      },
      "outputs": [
        {
          "name": "stdout",
          "output_type": "stream",
          "text": [
            "+----------+-----------------+------+----+---------+--------+----------+--------------+--------+----+-------+-----+----------+---------+-------------------------+---------------------------------------+------------------------+---------------------------+-------------------------------+-----------------+------------------------+---------------------------+-----------+-------------------------------+---------------+------------------+------------------+--------------+-----------+---------------+---------------+---------+-------------+----------------+----------------+------------+---------+-------------+-------------+-------+----------+----------+----------+-------------+------------------+\n",
            "|FlightDate|          Airline|Origin|Dest|Cancelled|Diverted|CRSDepTime|CRSElapsedTime|Distance|Year|Quarter|Month|DayofMonth|DayOfWeek|Marketing_Airline_Network|Operated_or_Branded_Code_Share_Partners|DOT_ID_Marketing_Airline|IATA_Code_Marketing_Airline|Flight_Number_Marketing_Airline|Operating_Airline|DOT_ID_Operating_Airline|IATA_Code_Operating_Airline|Tail_Number|Flight_Number_Operating_Airline|OriginAirportID|OriginAirportSeqID|OriginCityMarketID|OriginCityName|OriginState|OriginStateFips|OriginStateName|OriginWac|DestAirportID|DestAirportSeqID|DestCityMarketID|DestCityName|DestState|DestStateFips|DestStateName|DestWac|DepTimeBlk|CRSArrTime|ArrTimeBlk|DistanceGroup|DivAirportLandings|\n",
            "+----------+-----------------+------+----+---------+--------+----------+--------------+--------+----+-------+-----+----------+---------+-------------------------+---------------------------------------+------------------------+---------------------------+-------------------------------+-----------------+------------------------+---------------------------+-----------+-------------------------------+---------------+------------------+------------------+--------------+-----------+---------------+---------------+---------+-------------+----------------+----------------+------------+---------+-------------+-------------+-------+----------+----------+----------+-------------+------------------+\n",
            "|2018-01-23|Endeavor Air Inc.|   ABY| ATL|    false|   false|      1202|          62.0|   145.0|2018|      1|    1|        23|        2|                       DL|                           DL_CODESHARE|                   19790|                         DL|                           3298|               9E|                   20363|                         9E|     N8928A|                           3298|          10146|           1014602|             30146|    Albany, GA|         GA|             13|        Georgia|       34|        10397|         1039707|           30397| Atlanta, GA|       GA|           13|      Georgia|     34| 1200-1259|      1304| 1300-1359|            1|               0.0|\n",
            "|2018-01-24|Endeavor Air Inc.|   ABY| ATL|    false|   false|      1202|          62.0|   145.0|2018|      1|    1|        24|        3|                       DL|                           DL_CODESHARE|                   19790|                         DL|                           3298|               9E|                   20363|                         9E|     N800AY|                           3298|          10146|           1014602|             30146|    Albany, GA|         GA|             13|        Georgia|       34|        10397|         1039707|           30397| Atlanta, GA|       GA|           13|      Georgia|     34| 1200-1259|      1304| 1300-1359|            1|               0.0|\n",
            "|2018-01-25|Endeavor Air Inc.|   ABY| ATL|    false|   false|      1202|          62.0|   145.0|2018|      1|    1|        25|        4|                       DL|                           DL_CODESHARE|                   19790|                         DL|                           3298|               9E|                   20363|                         9E|     N8836A|                           3298|          10146|           1014602|             30146|    Albany, GA|         GA|             13|        Georgia|       34|        10397|         1039707|           30397| Atlanta, GA|       GA|           13|      Georgia|     34| 1200-1259|      1304| 1300-1359|            1|               0.0|\n",
            "|2018-01-26|Endeavor Air Inc.|   ABY| ATL|    false|   false|      1202|          62.0|   145.0|2018|      1|    1|        26|        5|                       DL|                           DL_CODESHARE|                   19790|                         DL|                           3298|               9E|                   20363|                         9E|     N800AY|                           3298|          10146|           1014602|             30146|    Albany, GA|         GA|             13|        Georgia|       34|        10397|         1039707|           30397| Atlanta, GA|       GA|           13|      Georgia|     34| 1200-1259|      1304| 1300-1359|            1|               0.0|\n",
            "|2018-01-27|Endeavor Air Inc.|   ABY| ATL|    false|   false|      1400|          60.0|   145.0|2018|      1|    1|        27|        6|                       DL|                           DL_CODESHARE|                   19790|                         DL|                           3298|               9E|                   20363|                         9E|     N8839E|                           3298|          10146|           1014602|             30146|    Albany, GA|         GA|             13|        Georgia|       34|        10397|         1039707|           30397| Atlanta, GA|       GA|           13|      Georgia|     34| 1400-1459|      1500| 1500-1559|            1|               0.0|\n",
            "|2018-01-28|Endeavor Air Inc.|   ABY| ATL|    false|   false|      1202|          62.0|   145.0|2018|      1|    1|        28|        7|                       DL|                           DL_CODESHARE|                   19790|                         DL|                           3298|               9E|                   20363|                         9E|     N8918B|                           3298|          10146|           1014602|             30146|    Albany, GA|         GA|             13|        Georgia|       34|        10397|         1039707|           30397| Atlanta, GA|       GA|           13|      Georgia|     34| 1200-1259|      1304| 1300-1359|            1|               0.0|\n",
            "|2018-01-29|Endeavor Air Inc.|   ABY| ATL|    false|   false|      1202|          62.0|   145.0|2018|      1|    1|        29|        1|                       DL|                           DL_CODESHARE|                   19790|                         DL|                           3298|               9E|                   20363|                         9E|     N8783E|                           3298|          10146|           1014602|             30146|    Albany, GA|         GA|             13|        Georgia|       34|        10397|         1039707|           30397| Atlanta, GA|       GA|           13|      Georgia|     34| 1200-1259|      1304| 1300-1359|            1|               0.0|\n",
            "|2018-01-30|Endeavor Air Inc.|   ABY| ATL|    false|   false|      1202|          62.0|   145.0|2018|      1|    1|        30|        2|                       DL|                           DL_CODESHARE|                   19790|                         DL|                           3298|               9E|                   20363|                         9E|     N8946A|                           3298|          10146|           1014602|             30146|    Albany, GA|         GA|             13|        Georgia|       34|        10397|         1039707|           30397| Atlanta, GA|       GA|           13|      Georgia|     34| 1200-1259|      1304| 1300-1359|            1|               0.0|\n",
            "|2018-01-31|Endeavor Air Inc.|   ABY| ATL|    false|   false|      1202|          62.0|   145.0|2018|      1|    1|        31|        3|                       DL|                           DL_CODESHARE|                   19790|                         DL|                           3298|               9E|                   20363|                         9E|     N8918B|                           3298|          10146|           1014602|             30146|    Albany, GA|         GA|             13|        Georgia|       34|        10397|         1039707|           30397| Atlanta, GA|       GA|           13|      Georgia|     34| 1200-1259|      1304| 1300-1359|            1|               0.0|\n",
            "|2018-01-03|Endeavor Air Inc.|   ATL| ABY|    false|   false|      1037|          60.0|   145.0|2018|      1|    1|         3|        3|                       DL|                           DL_CODESHARE|                   19790|                         DL|                           3298|               9E|                   20363|                         9E|     N981EV|                           3298|          10397|           1039707|             30397|   Atlanta, GA|         GA|             13|        Georgia|       34|        10146|         1014602|           30146|  Albany, GA|       GA|           13|      Georgia|     34| 1000-1059|      1137| 1100-1159|            1|               0.0|\n",
            "|2018-01-04|Endeavor Air Inc.|   ATL| ABY|    false|   false|      1037|          60.0|   145.0|2018|      1|    1|         4|        4|                       DL|                           DL_CODESHARE|                   19790|                         DL|                           3298|               9E|                   20363|                         9E|     N981EV|                           3298|          10397|           1039707|             30397|   Atlanta, GA|         GA|             13|        Georgia|       34|        10146|         1014602|           30146|  Albany, GA|       GA|           13|      Georgia|     34| 1000-1059|      1137| 1100-1159|            1|               0.0|\n",
            "|2018-01-05|Endeavor Air Inc.|   ATL| ABY|    false|   false|      1037|          60.0|   145.0|2018|      1|    1|         5|        5|                       DL|                           DL_CODESHARE|                   19790|                         DL|                           3298|               9E|                   20363|                         9E|     N8877A|                           3298|          10397|           1039707|             30397|   Atlanta, GA|         GA|             13|        Georgia|       34|        10146|         1014602|           30146|  Albany, GA|       GA|           13|      Georgia|     34| 1000-1059|      1137| 1100-1159|            1|               0.0|\n",
            "|2018-01-06|Endeavor Air Inc.|   ATL| ABY|    false|   false|      1037|          59.0|   145.0|2018|      1|    1|         6|        6|                       DL|                           DL_CODESHARE|                   19790|                         DL|                           3298|               9E|                   20363|                         9E|     N8970D|                           3298|          10397|           1039707|             30397|   Atlanta, GA|         GA|             13|        Georgia|       34|        10146|         1014602|           30146|  Albany, GA|       GA|           13|      Georgia|     34| 1000-1059|      1136| 1100-1159|            1|               0.0|\n",
            "|2018-01-07|Endeavor Air Inc.|   ATL| ABY|    false|   false|      1037|          60.0|   145.0|2018|      1|    1|         7|        7|                       DL|                           DL_CODESHARE|                   19790|                         DL|                           3298|               9E|                   20363|                         9E|     N8980A|                           3298|          10397|           1039707|             30397|   Atlanta, GA|         GA|             13|        Georgia|       34|        10146|         1014602|           30146|  Albany, GA|       GA|           13|      Georgia|     34| 1000-1059|      1137| 1100-1159|            1|               0.0|\n",
            "|2018-01-08|Endeavor Air Inc.|   ATL| ABY|    false|   false|      1037|          60.0|   145.0|2018|      1|    1|         8|        1|                       DL|                           DL_CODESHARE|                   19790|                         DL|                           3298|               9E|                   20363|                         9E|     N8847A|                           3298|          10397|           1039707|             30397|   Atlanta, GA|         GA|             13|        Georgia|       34|        10146|         1014602|           30146|  Albany, GA|       GA|           13|      Georgia|     34| 1000-1059|      1137| 1100-1159|            1|               0.0|\n",
            "|2018-01-09|Endeavor Air Inc.|   ATL| ABY|    false|   false|      1037|          60.0|   145.0|2018|      1|    1|         9|        2|                       DL|                           DL_CODESHARE|                   19790|                         DL|                           3298|               9E|                   20363|                         9E|     N304PQ|                           3298|          10397|           1039707|             30397|   Atlanta, GA|         GA|             13|        Georgia|       34|        10146|         1014602|           30146|  Albany, GA|       GA|           13|      Georgia|     34| 1000-1059|      1137| 1100-1159|            1|               0.0|\n",
            "|2018-01-10|Endeavor Air Inc.|   ATL| ABY|    false|   false|      1037|          60.0|   145.0|2018|      1|    1|        10|        3|                       DL|                           DL_CODESHARE|                   19790|                         DL|                           3298|               9E|                   20363|                         9E|     N8836A|                           3298|          10397|           1039707|             30397|   Atlanta, GA|         GA|             13|        Georgia|       34|        10146|         1014602|           30146|  Albany, GA|       GA|           13|      Georgia|     34| 1000-1059|      1137| 1100-1159|            1|               0.0|\n",
            "|2018-01-11|Endeavor Air Inc.|   ATL| ABY|    false|   false|      1037|          60.0|   145.0|2018|      1|    1|        11|        4|                       DL|                           DL_CODESHARE|                   19790|                         DL|                           3298|               9E|                   20363|                         9E|     N8888D|                           3298|          10397|           1039707|             30397|   Atlanta, GA|         GA|             13|        Georgia|       34|        10146|         1014602|           30146|  Albany, GA|       GA|           13|      Georgia|     34| 1000-1059|      1137| 1100-1159|            1|               0.0|\n",
            "|2018-01-12|Endeavor Air Inc.|   ATL| ABY|    false|   false|      1037|          60.0|   145.0|2018|      1|    1|        12|        5|                       DL|                           DL_CODESHARE|                   19790|                         DL|                           3298|               9E|                   20363|                         9E|     N832AY|                           3298|          10397|           1039707|             30397|   Atlanta, GA|         GA|             13|        Georgia|       34|        10146|         1014602|           30146|  Albany, GA|       GA|           13|      Georgia|     34| 1000-1059|      1137| 1100-1159|            1|               0.0|\n",
            "|2018-01-13|Endeavor Air Inc.|   ATL| ABY|    false|   false|      1037|          59.0|   145.0|2018|      1|    1|        13|        6|                       DL|                           DL_CODESHARE|                   19790|                         DL|                           3298|               9E|                   20363|                         9E|     N8976E|                           3298|          10397|           1039707|             30397|   Atlanta, GA|         GA|             13|        Georgia|       34|        10146|         1014602|           30146|  Albany, GA|       GA|           13|      Georgia|     34| 1000-1059|      1136| 1100-1159|            1|               0.0|\n",
            "+----------+-----------------+------+----+---------+--------+----------+--------------+--------+----+-------+-----+----------+---------+-------------------------+---------------------------------------+------------------------+---------------------------+-------------------------------+-----------------+------------------------+---------------------------+-----------+-------------------------------+---------------+------------------+------------------+--------------+-----------+---------------+---------------+---------+-------------+----------------+----------------+------------+---------+-------------+-------------+-------+----------+----------+----------+-------------+------------------+\n",
            "only showing top 20 rows\n",
            "\n"
          ]
        }
      ],
      "source": [
        "#Se quitan los nulls\n",
        "combined_flights = combined_flights.na.drop(how=\"any\")\n",
        "combined_flights.show()"
      ]
    },
    {
      "cell_type": "code",
      "execution_count": null,
      "metadata": {
        "id": "UyXaMxmIBD03"
      },
      "outputs": [],
      "source": [
        "#label encoding\n",
        "columns_objects_input = [x[0] for x in combined_flights.dtypes if x[1].startswith('string')]\n",
        "indexers = [StringIndexer(inputCol=column, outputCol=column+\"_encoded\").setHandleInvalid(\"keep\") for column in columns_objects_input]\n",
        "pipeline = Pipeline(stages=indexers)\n",
        "combined_flights = pipeline.fit(combined_flights).transform(combined_flights)\n",
        "combined_flights = combined_flights.drop(*columns_objects_input)"
      ]
    },
    {
      "cell_type": "code",
      "execution_count": null,
      "metadata": {
        "colab": {
          "base_uri": "https://localhost:8080/"
        },
        "id": "zKr7Erl5nrl0",
        "outputId": "f7a0f801-c3f8-4299-811a-b01780ca386e"
      },
      "outputs": [
        {
          "name": "stdout",
          "output_type": "stream",
          "text": [
            "+---------+--------+----------+--------------+--------+----+-------+-----+----------+---------+------------------------+-------------------------------+------------------------+-------------------------------+---------------+------------------+------------------+---------------+---------+-------------+----------------+----------------+-------------+-------+----------+-------------+------------------+------------------+---------------+--------------+------------+---------------------------------+-----------------------------------------------+-----------------------------------+-------------------------+-----------------------------------+-------------------+----------------------+-------------------+-----------------------+--------------------+-----------------+---------------------+------------------+------------------+\n",
            "|Cancelled|Diverted|CRSDepTime|CRSElapsedTime|Distance|Year|Quarter|Month|DayofMonth|DayOfWeek|DOT_ID_Marketing_Airline|Flight_Number_Marketing_Airline|DOT_ID_Operating_Airline|Flight_Number_Operating_Airline|OriginAirportID|OriginAirportSeqID|OriginCityMarketID|OriginStateFips|OriginWac|DestAirportID|DestAirportSeqID|DestCityMarketID|DestStateFips|DestWac|CRSArrTime|DistanceGroup|DivAirportLandings|FlightDate_encoded|Airline_encoded|Origin_encoded|Dest_encoded|Marketing_Airline_Network_encoded|Operated_or_Branded_Code_Share_Partners_encoded|IATA_Code_Marketing_Airline_encoded|Operating_Airline_encoded|IATA_Code_Operating_Airline_encoded|Tail_Number_encoded|OriginCityName_encoded|OriginState_encoded|OriginStateName_encoded|DestCityName_encoded|DestState_encoded|DestStateName_encoded|DepTimeBlk_encoded|ArrTimeBlk_encoded|\n",
            "+---------+--------+----------+--------------+--------+----+-------+-----+----------+---------+------------------------+-------------------------------+------------------------+-------------------------------+---------------+------------------+------------------+---------------+---------+-------------+----------------+----------------+-------------+-------+----------+-------------+------------------+------------------+---------------+--------------+------------+---------------------------------+-----------------------------------------------+-----------------------------------+-------------------------+-----------------------------------+-------------------+----------------------+-------------------+-----------------------+--------------------+-----------------+---------------------+------------------+------------------+\n",
            "|        0|   false|      1202|          62.0|   145.0|2018|      1|    1|        23|        2|                   19790|                           3298|                   20363|                           3298|          10146|           1014602|             30146|             13|       34|        10397|         1039707|           30397|           13|     34|      1304|            1|               0.0|             194.0|           12.0|         311.0|         2.0|                              3.0|                                            6.0|                                3.0|                     12.0|                               12.0|             3126.0|                 305.0|                6.0|                    6.0|                 2.0|              6.0|                  6.0|               4.0|               5.0|\n",
            "|        0|   false|      1202|          62.0|   145.0|2018|      1|    1|        24|        3|                   19790|                           3298|                   20363|                           3298|          10146|           1014602|             30146|             13|       34|        10397|         1039707|           30397|           13|     34|      1304|            1|               0.0|             189.0|           12.0|         311.0|         2.0|                              3.0|                                            6.0|                                3.0|                     12.0|                               12.0|             3667.0|                 305.0|                6.0|                    6.0|                 2.0|              6.0|                  6.0|               4.0|               5.0|\n",
            "|        0|   false|      1202|          62.0|   145.0|2018|      1|    1|        25|        4|                   19790|                           3298|                   20363|                           3298|          10146|           1014602|             30146|             13|       34|        10397|         1039707|           30397|           13|     34|      1304|            1|               0.0|             179.0|           12.0|         311.0|         2.0|                              3.0|                                            6.0|                                3.0|                     12.0|                               12.0|             2838.0|                 305.0|                6.0|                    6.0|                 2.0|              6.0|                  6.0|               4.0|               5.0|\n",
            "|        0|   false|      1202|          62.0|   145.0|2018|      1|    1|        26|        5|                   19790|                           3298|                   20363|                           3298|          10146|           1014602|             30146|             13|       34|        10397|         1039707|           30397|           13|     34|      1304|            1|               0.0|             175.0|           12.0|         311.0|         2.0|                              3.0|                                            6.0|                                3.0|                     12.0|                               12.0|             3667.0|                 305.0|                6.0|                    6.0|                 2.0|              6.0|                  6.0|               4.0|               5.0|\n",
            "|        0|   false|      1400|          60.0|   145.0|2018|      1|    1|        27|        6|                   19790|                           3298|                   20363|                           3298|          10146|           1014602|             30146|             13|       34|        10397|         1039707|           30397|           13|     34|      1500|            1|               0.0|             234.0|           12.0|         311.0|         2.0|                              3.0|                                            6.0|                                3.0|                     12.0|                               12.0|             3544.0|                 305.0|                6.0|                    6.0|                 2.0|              6.0|                  6.0|               7.0|              12.0|\n",
            "|        0|   false|      1202|          62.0|   145.0|2018|      1|    1|        28|        7|                   19790|                           3298|                   20363|                           3298|          10146|           1014602|             30146|             13|       34|        10397|         1039707|           30397|           13|     34|      1304|            1|               0.0|             198.0|           12.0|         311.0|         2.0|                              3.0|                                            6.0|                                3.0|                     12.0|                               12.0|             2988.0|                 305.0|                6.0|                    6.0|                 2.0|              6.0|                  6.0|               4.0|               5.0|\n",
            "|        0|   false|      1202|          62.0|   145.0|2018|      1|    1|        29|        1|                   19790|                           3298|                   20363|                           3298|          10146|           1014602|             30146|             13|       34|        10397|         1039707|           30397|           13|     34|      1304|            1|               0.0|             178.0|           12.0|         311.0|         2.0|                              3.0|                                            6.0|                                3.0|                     12.0|                               12.0|             3003.0|                 305.0|                6.0|                    6.0|                 2.0|              6.0|                  6.0|               4.0|               5.0|\n",
            "|        0|   false|      1202|          62.0|   145.0|2018|      1|    1|        30|        2|                   19790|                           3298|                   20363|                           3298|          10146|           1014602|             30146|             13|       34|        10397|         1039707|           30397|           13|     34|      1304|            1|               0.0|             193.0|           12.0|         311.0|         2.0|                              3.0|                                            6.0|                                3.0|                     12.0|                               12.0|             2711.0|                 305.0|                6.0|                    6.0|                 2.0|              6.0|                  6.0|               4.0|               5.0|\n",
            "|        0|   false|      1202|          62.0|   145.0|2018|      1|    1|        31|        3|                   19790|                           3298|                   20363|                           3298|          10146|           1014602|             30146|             13|       34|        10397|         1039707|           30397|           13|     34|      1304|            1|               0.0|             188.0|           12.0|         311.0|         2.0|                              3.0|                                            6.0|                                3.0|                     12.0|                               12.0|             2988.0|                 305.0|                6.0|                    6.0|                 2.0|              6.0|                  6.0|               4.0|               5.0|\n",
            "|        0|   false|      1037|          60.0|   145.0|2018|      1|    1|         3|        3|                   19790|                           3298|                   20363|                           3298|          10397|           1039707|             30397|             13|       34|        10146|         1014602|           30146|           13|     34|      1137|            1|               0.0|             186.0|           12.0|           2.0|       311.0|                              3.0|                                            6.0|                                3.0|                     12.0|                               12.0|             2743.0|                   2.0|                6.0|                    6.0|               305.0|              6.0|                  6.0|               6.0|               6.0|\n",
            "|        0|   false|      1037|          60.0|   145.0|2018|      1|    1|         4|        4|                   19790|                           3298|                   20363|                           3298|          10397|           1039707|             30397|             13|       34|        10146|         1014602|           30146|           13|     34|      1137|            1|               0.0|             196.0|           12.0|           2.0|       311.0|                              3.0|                                            6.0|                                3.0|                     12.0|                               12.0|             2743.0|                   2.0|                6.0|                    6.0|               305.0|              6.0|                  6.0|               6.0|               6.0|\n",
            "|        0|   false|      1037|          60.0|   145.0|2018|      1|    1|         5|        5|                   19790|                           3298|                   20363|                           3298|          10397|           1039707|             30397|             13|       34|        10146|         1014602|           30146|           13|     34|      1137|            1|               0.0|             185.0|           12.0|           2.0|       311.0|                              3.0|                                            6.0|                                3.0|                     12.0|                               12.0|             3075.0|                   2.0|                6.0|                    6.0|               305.0|              6.0|                  6.0|               6.0|               6.0|\n",
            "|        0|   false|      1037|          59.0|   145.0|2018|      1|    1|         6|        6|                   19790|                           3298|                   20363|                           3298|          10397|           1039707|             30397|             13|       34|        10146|         1014602|           30146|           13|     34|      1136|            1|               0.0|             210.0|           12.0|           2.0|       311.0|                              3.0|                                            6.0|                                3.0|                     12.0|                               12.0|             2796.0|                   2.0|                6.0|                    6.0|               305.0|              6.0|                  6.0|               6.0|               6.0|\n",
            "|        0|   false|      1037|          60.0|   145.0|2018|      1|    1|         7|        7|                   19790|                           3298|                   20363|                           3298|          10397|           1039707|             30397|             13|       34|        10146|         1014602|           30146|           13|     34|      1137|            1|               0.0|             187.0|           12.0|           2.0|       311.0|                              3.0|                                            6.0|                                3.0|                     12.0|                               12.0|             3831.0|                   2.0|                6.0|                    6.0|               305.0|              6.0|                  6.0|               6.0|               6.0|\n",
            "|        0|   false|      1037|          60.0|   145.0|2018|      1|    1|         8|        1|                   19790|                           3298|                   20363|                           3298|          10397|           1039707|             30397|             13|       34|        10146|         1014602|           30146|           13|     34|      1137|            1|               0.0|             182.0|           12.0|           2.0|       311.0|                              3.0|                                            6.0|                                3.0|                     12.0|                               12.0|             3338.0|                   2.0|                6.0|                    6.0|               305.0|              6.0|                  6.0|               6.0|               6.0|\n",
            "|        0|   false|      1037|          60.0|   145.0|2018|      1|    1|         9|        2|                   19790|                           3298|                   20363|                           3298|          10397|           1039707|             30397|             13|       34|        10146|         1014602|           30146|           13|     34|      1137|            1|               0.0|             195.0|           12.0|           2.0|       311.0|                              3.0|                                            6.0|                                3.0|                     12.0|                               12.0|             3123.0|                   2.0|                6.0|                    6.0|               305.0|              6.0|                  6.0|               6.0|               6.0|\n",
            "|        0|   false|      1037|          60.0|   145.0|2018|      1|    1|        10|        3|                   19790|                           3298|                   20363|                           3298|          10397|           1039707|             30397|             13|       34|        10146|         1014602|           30146|           13|     34|      1137|            1|               0.0|             190.0|           12.0|           2.0|       311.0|                              3.0|                                            6.0|                                3.0|                     12.0|                               12.0|             2838.0|                   2.0|                6.0|                    6.0|               305.0|              6.0|                  6.0|               6.0|               6.0|\n",
            "|        0|   false|      1037|          60.0|   145.0|2018|      1|    1|        11|        4|                   19790|                           3298|                   20363|                           3298|          10397|           1039707|             30397|             13|       34|        10146|         1014602|           30146|           13|     34|      1137|            1|               0.0|             180.0|           12.0|           2.0|       311.0|                              3.0|                                            6.0|                                3.0|                     12.0|                               12.0|             5476.0|                   2.0|                6.0|                    6.0|               305.0|              6.0|                  6.0|               6.0|               6.0|\n",
            "|        0|   false|      1037|          60.0|   145.0|2018|      1|    1|        12|        5|                   19790|                           3298|                   20363|                           3298|          10397|           1039707|             30397|             13|       34|        10146|         1014602|           30146|           13|     34|      1137|            1|               0.0|             177.0|           12.0|           2.0|       311.0|                              3.0|                                            6.0|                                3.0|                     12.0|                               12.0|             2424.0|                   2.0|                6.0|                    6.0|               305.0|              6.0|                  6.0|               6.0|               6.0|\n",
            "|        0|   false|      1037|          59.0|   145.0|2018|      1|    1|        13|        6|                   19790|                           3298|                   20363|                           3298|          10397|           1039707|             30397|             13|       34|        10146|         1014602|           30146|           13|     34|      1136|            1|               0.0|             246.0|           12.0|           2.0|       311.0|                              3.0|                                            6.0|                                3.0|                     12.0|                               12.0|             3458.0|                   2.0|                6.0|                    6.0|               305.0|              6.0|                  6.0|               6.0|               6.0|\n",
            "+---------+--------+----------+--------------+--------+----+-------+-----+----------+---------+------------------------+-------------------------------+------------------------+-------------------------------+---------------+------------------+------------------+---------------+---------+-------------+----------------+----------------+-------------+-------+----------+-------------+------------------+------------------+---------------+--------------+------------+---------------------------------+-----------------------------------------------+-----------------------------------+-------------------------+-----------------------------------+-------------------+----------------------+-------------------+-----------------------+--------------------+-----------------+---------------------+------------------+------------------+\n",
            "only showing top 20 rows\n",
            "\n"
          ]
        }
      ],
      "source": [
        "#Se toman las variables dependientes\n",
        "combined_flights = combined_flights.withColumn(\"Cancelled\", col(\"Cancelled\").cast(IntegerType()))\n",
        "combined_flights.show()"
      ]
    },
    {
      "cell_type": "code",
      "execution_count": null,
      "metadata": {
        "id": "eMGXNld4fE2u"
      },
      "outputs": [],
      "source": [
        "#Se crea un labeled point para procesar los datos (se quita el primero)\n",
        "combined_flights_rdd = combined_flights.rdd.map(lambda x: LabeledPoint(x[0], x[2:]))"
      ]
    },
    {
      "cell_type": "code",
      "execution_count": null,
      "metadata": {
        "id": "O351hg4UOL5m"
      },
      "outputs": [],
      "source": [
        "#Se dividen en entrenamiento y validación\n",
        "(trainingData, testData) = combined_flights_rdd.randomSplit([0.7, 0.3])"
      ]
    },
    {
      "cell_type": "code",
      "execution_count": null,
      "metadata": {
        "id": "mFs-yldMVE9Y"
      },
      "outputs": [],
      "source": [
        "#Se entrena un decision tree\n",
        "numClasses = 2\n",
        "categoricalFeaturesInfo = {}\n",
        "model = DecisionTree.trainClassifier(trainingData, numClasses, categoricalFeaturesInfo)"
      ]
    },
    {
      "cell_type": "code",
      "execution_count": null,
      "metadata": {
        "id": "uROOIGyLqGCn"
      },
      "outputs": [],
      "source": [
        "#Se generan las predicciones con test\n",
        "predictions = model.predict(testData.map(lambda x: x.features))\n",
        "labelsAndPredictions = testData.map(lambda lp: lp.label)\n",
        "predictions_zipped = predictions.zipWithIndex()\n",
        "labelsAndPredictions_zipped = labelsAndPredictions.zipWithIndex()"
      ]
    },
    {
      "cell_type": "code",
      "execution_count": null,
      "metadata": {
        "id": "QXHj2LHnqSEq"
      },
      "outputs": [],
      "source": [
        "#Se guardan las predicciones con los datos reales\n",
        "data_rdd = predictions_zipped.map(lambda x: (x[1], x[0])).join(labelsAndPredictions_zipped.map(lambda x: (x[1], x[0]))).map(lambda x: (x[1][0], x[1][1]))"
      ]
    },
    {
      "cell_type": "code",
      "execution_count": null,
      "metadata": {
        "colab": {
          "base_uri": "https://localhost:8080/"
        },
        "id": "WMyRvYLX2QvP",
        "outputId": "7da450fa-1e57-4488-ddb4-eeed5d7d97a1"
      },
      "outputs": [
        {
          "name": "stdout",
          "output_type": "stream",
          "text": [
            "20367 1702823.0\n",
            "Test Error = 20367\n",
            "Learned classification tree model:\n",
            "DecisionTreeModel classifier of depth 5 with 11 nodes\n",
            "  If (feature 10 <= 20283.5)\n",
            "   If (feature 29 <= 0.5)\n",
            "    If (feature 24 <= 0.5)\n",
            "     Predict: 0.0\n",
            "    Else (feature 24 > 0.5)\n",
            "     If (feature 28 <= 122.5)\n",
            "      Predict: 0.0\n",
            "     Else (feature 28 > 122.5)\n",
            "      If (feature 25 <= 38.5)\n",
            "       Predict: 1.0\n",
            "      Else (feature 25 > 38.5)\n",
            "       Predict: 0.0\n",
            "   Else (feature 29 > 0.5)\n",
            "    Predict: 0.0\n",
            "  Else (feature 10 > 20283.5)\n",
            "   Predict: 0.0\n",
            "\n"
          ]
        }
      ],
      "source": [
        "#Se cuenta cuantos tienen datos diferentes (i.e. cuantos son incorrectos) que en este caso son 20367\n",
        "#Se imprime la estructura del árbol\n",
        "testErr = data_rdd.filter(lambda lp: lp[0] != lp[1]).count()\n",
        "testData_count = float(testData.count())\n",
        "print(testErr, testData_count)\n",
        "ratio_err = testErr / testData_count\n",
        "print('Test Error = ' + str(testErr))\n",
        "print('Learned classification tree model:')\n",
        "print(model.toDebugString())"
      ]
    }
  ],
  "metadata": {
    "accelerator": "GPU",
    "colab": {
      "provenance": []
    },
    "gpuClass": "standard",
    "kernelspec": {
      "display_name": "Python 3",
      "name": "python3"
    },
    "language_info": {
      "name": "python"
    }
  },
  "nbformat": 4,
  "nbformat_minor": 0
}
